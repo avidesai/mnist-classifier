{
 "cells": [
  {
   "cell_type": "markdown",
   "source": [
    "This is a simple keras classification model for the MNIST data set.\n",
    "Written by Avi Desai (02.02.2022)\n",
    "\n",
    "Based on example written in Deep Learning with Python by Francois Chollet\n",
    "https://github.com/fchollet/deep-learning-with-python-notebooks/blob/master/chapter02_mathematical-building-blocks.ipynb"
   ],
   "metadata": {}
  },
  {
   "cell_type": "code",
   "execution_count": 16,
   "source": [
    "import tensorflow as tf\n",
    "from tensorflow import keras\n",
    "from tensorflow.keras.datasets import mnist\n",
    "from tensorflow.keras import layers"
   ],
   "outputs": [],
   "metadata": {}
  },
  {
   "cell_type": "code",
   "execution_count": 17,
   "source": [
    "# Load the input data of MNIST, a set of 60000/10000 labeled images of handwritted digits which are 28 x 28 pixels in size\n",
    "# Pre process the images by reshaping into the correct format for model\n",
    "(x_train, y_train),(x_test, y_test) = mnist.load_data()\n",
    "x_train, x_test = x_train / 255.0, x_test / 255.0\n",
    "x_train.shape, y_train, x_test.shape, y_test"
   ],
   "outputs": [
    {
     "output_type": "execute_result",
     "data": {
      "text/plain": [
       "((60000, 28, 28),\n",
       " array([5, 0, 4, ..., 5, 6, 8], dtype=uint8),\n",
       " (10000, 28, 28),\n",
       " array([7, 2, 1, ..., 4, 5, 6], dtype=uint8))"
      ]
     },
     "metadata": {},
     "execution_count": 17
    }
   ],
   "metadata": {}
  },
  {
   "cell_type": "code",
   "execution_count": 18,
   "source": [
    "# Define a model of two densely connected layers. First layer accepting input of images with relu activation function\n",
    "# Second layer is a 10 way softmax layer which returns an array of 10 probability scores indicating which is its most likely classification.\n",
    "model = tf.keras.models.Sequential([\n",
    "  tf.keras.layers.Flatten(input_shape=(28, 28)),\n",
    "  tf.keras.layers.Dense(128, activation='relu'),\n",
    "  tf.keras.layers.Dropout(0.2),\n",
    "  tf.keras.layers.Dense(10, activation='softmax')\n",
    "])\n"
   ],
   "outputs": [],
   "metadata": {}
  },
  {
   "cell_type": "code",
   "execution_count": 21,
   "source": [
    "# Compile the model with an optimizer and loss function\n",
    "model.compile(optimizer='adam',\n",
    "              loss='sparse_categorical_crossentropy',\n",
    "              metrics=['accuracy'])"
   ],
   "outputs": [],
   "metadata": {}
  },
  {
   "cell_type": "code",
   "execution_count": 23,
   "source": [
    "# Train or \"fit\" the model to the training data set\n",
    "model.fit(x_train, y_train, epochs=5)"
   ],
   "outputs": [
    {
     "output_type": "stream",
     "name": "stdout",
     "text": [
      "Epoch 1/5\n",
      "1875/1875 [==============================] - 2s 916us/step - loss: 0.0659 - accuracy: 0.9793\n",
      "Epoch 2/5\n",
      "1875/1875 [==============================] - 2s 867us/step - loss: 0.0605 - accuracy: 0.9813\n",
      "Epoch 3/5\n",
      "1875/1875 [==============================] - 2s 944us/step - loss: 0.0530 - accuracy: 0.9829\n",
      "Epoch 4/5\n",
      "1875/1875 [==============================] - 2s 899us/step - loss: 0.0473 - accuracy: 0.9842\n",
      "Epoch 5/5\n",
      "1875/1875 [==============================] - 2s 901us/step - loss: 0.0443 - accuracy: 0.9854\n"
     ]
    },
    {
     "output_type": "execute_result",
     "data": {
      "text/plain": [
       "<keras.callbacks.History at 0x7fa34b120b50>"
      ]
     },
     "metadata": {},
     "execution_count": 23
    }
   ],
   "metadata": {}
  },
  {
   "cell_type": "code",
   "execution_count": 24,
   "source": [
    "# Evaluate our trained model on the test set to determine its accuracy\n",
    "model.evaluate(x_test, y_test)"
   ],
   "outputs": [
    {
     "output_type": "stream",
     "name": "stdout",
     "text": [
      "313/313 [==============================] - 0s 798us/step - loss: 0.0731 - accuracy: 0.9805\n"
     ]
    },
    {
     "output_type": "execute_result",
     "data": {
      "text/plain": [
       "[0.07306869328022003, 0.9804999828338623]"
      ]
     },
     "metadata": {},
     "execution_count": 24
    }
   ],
   "metadata": {}
  }
 ],
 "metadata": {
  "orig_nbformat": 4,
  "language_info": {
   "name": "python",
   "version": "3.8.8",
   "mimetype": "text/x-python",
   "codemirror_mode": {
    "name": "ipython",
    "version": 3
   },
   "pygments_lexer": "ipython3",
   "nbconvert_exporter": "python",
   "file_extension": ".py"
  },
  "kernelspec": {
   "name": "python3",
   "display_name": "Python 3.8.8 64-bit ('base': conda)"
  },
  "interpreter": {
   "hash": "0ff94333bc716e1c2bf7a12a6c0bc1e5812eb34fe83f4473e15cb725e6ef08f3"
  }
 },
 "nbformat": 4,
 "nbformat_minor": 2
}